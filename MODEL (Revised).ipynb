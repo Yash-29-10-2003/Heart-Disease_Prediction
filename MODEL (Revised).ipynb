{
  "cells": [
    {
      "cell_type": "code",
      "execution_count": 8,
      "metadata": {
        "colab": {
          "base_uri": "https://localhost:8080/"
        },
        "id": "Liwy2jHq_Qsz",
        "outputId": "5b2bc602-7176-45f0-8eed-ae2d477d0914"
      },
      "outputs": [
        {
          "name": "stdout",
          "output_type": "stream",
          "text": [
            "Shape of X and y respectively (train): (820, 13) (820,)\n",
            "Shape of X and y respectively (test): (205, 13) (205,)\n",
            "RandomForestClassifier\n",
            "Training Score: 0.9329268292682927\n",
            "Testing Score: 0.9414634146341463\n",
            "   Predicted\n",
            "0          1\n",
            "1          1\n",
            "2          0\n",
            "3          1\n",
            "4          0\n",
            "Accuracy: 0.9414634146341463\n",
            "              precision    recall  f1-score   support\n",
            "\n",
            "           0       0.98      0.90      0.94        98\n",
            "           1       0.91      0.98      0.95       107\n",
            "\n",
            "    accuracy                           0.94       205\n",
            "   macro avg       0.95      0.94      0.94       205\n",
            "weighted avg       0.94      0.94      0.94       205\n",
            "\n",
            "Logistic Regression\n",
            "Training Score: 0.8621951219512195\n",
            "Testing Score: 0.8634146341463415\n",
            "   Predicted\n",
            "0          1\n",
            "1          1\n",
            "2          0\n",
            "3          1\n",
            "4          0\n",
            "% of people predicted with heart-disease: 0.5902439024390244\n",
            "              precision    recall  f1-score   support\n",
            "\n",
            "           0       0.92      0.79      0.85        98\n",
            "           1       0.83      0.93      0.88       107\n",
            "\n",
            "    accuracy                           0.86       205\n",
            "   macro avg       0.87      0.86      0.86       205\n",
            "weighted avg       0.87      0.86      0.86       205\n",
            "\n"
          ]
        }
      ],
      "source": [
        "import numpy as np\n",
        "import pandas as pd\n",
        "from sklearn.model_selection import train_test_split\n",
        "from sklearn.ensemble import RandomForestClassifier\n",
        "from sklearn.metrics import classification_report\n",
        "\n",
        "# Importing dataset\n",
        "df = pd.read_csv('heart.csv')\n",
        "X = df.drop(\"target\", axis=1)\n",
        "y = df[\"target\"]\n",
        "X_train, X_test, y_train, y_test = train_test_split(X, y, test_size=0.2, random_state=0)\n",
        "print('Shape of X and y respectively (train):', X_train.shape, y_train.shape)\n",
        "print('Shape of X and y respectively (test):', X_test.shape, y_test.shape)\n",
        "\n",
        "# RandomForestClassifier\n",
        "print('RandomForestClassifier')\n",
        "model = RandomForestClassifier(n_estimators=50, max_depth=5, random_state=0)\n",
        "model.fit(X_train, y_train)\n",
        "y_pred = model.predict(X_test)\n",
        "train_score = model.score(X_train, y_train)\n",
        "print('Training Score:', train_score)\n",
        "test_score = model.score(X_test, y_test)\n",
        "print('Testing Score:', test_score)\n",
        "output = pd.DataFrame({'Predicted': y_pred})\n",
        "print(output.head())\n",
        "accuracy = np.mean(y_pred == y_test)\n",
        "print(\"Accuracy:\", accuracy)\n",
        "print(classification_report(y_test, y_pred))\n",
        "\n",
        "#logistic regression\n",
        "print('Logistic Regression')\n",
        "from sklearn.linear_model import LogisticRegression\n",
        "model = LogisticRegression(max_iter=1000)\n",
        "model.fit(X_train, y_train)\n",
        "Y_pred = model.predict(X_test)\n",
        "score = model.score(X_train, y_train)\n",
        "print('Training Score:', score)\n",
        "score = model.score(X_test, y_test)\n",
        "print('Testing Score:', score)\n",
        "output = pd.DataFrame({'Predicted':Y_pred}) # Heart-Disease yes or no? 1/0\n",
        "print(output.head())\n",
        "people = output.loc[output.Predicted == 1][\"Predicted\"]\n",
        "rate_people = 0\n",
        "if len(people) > 0 :\n",
        "    rate_people = len(people)/len(output)\n",
        "print(\"% of people predicted with heart-disease:\", rate_people)\n",
        "score_logreg = score\n",
        "out_logreg = output\n",
        "from sklearn.metrics import classification_report\n",
        "print(classification_report(y_test,Y_pred))"
      ]
    }
  ],
  "metadata": {
    "colab": {
      "provenance": []
    },
    "kernelspec": {
      "display_name": "Python 3",
      "name": "python3"
    },
    "language_info": {
      "name": "python"
    }
  },
  "nbformat": 4,
  "nbformat_minor": 0
}
